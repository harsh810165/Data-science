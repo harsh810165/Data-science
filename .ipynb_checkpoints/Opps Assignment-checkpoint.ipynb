{
 "cells": [
  {
   "cell_type": "markdown",
   "id": "4d979066-69f0-4f40-b1ce-4ce4a86eea68",
   "metadata": {},
   "source": [
    "# Q1. Explain Class and Object with respect to Object-Oriented Programming. Give a suitable example."
   ]
  },
  {
   "cell_type": "markdown",
   "id": "9a1d7059-bfb6-45b3-9189-04419a6be87d",
   "metadata": {},
   "source": [
    "## A Class is like an object constructor, or a \"blueprint\" for creating objects."
   ]
  },
  {
   "cell_type": "markdown",
   "id": "04be45a9-8ea9-47e3-996e-02bc339e03f4",
   "metadata": {},
   "source": [
    "# Q2. Name the four pillars of OOPs."
   ]
  },
  {
   "cell_type": "markdown",
   "id": "c766c5e5-2d71-4be6-b1e3-7073ae238fa8",
   "metadata": {},
   "source": [
    "## The 4 pillars of OOP are:-\n",
    "##    - Abstraction\n",
    "##    - Encapsulation\n",
    "##    - Inheritance\n",
    "##    - Polymorphism"
   ]
  },
  {
   "cell_type": "markdown",
   "id": "58f2a412-3efc-44e2-808f-e0382a641897",
   "metadata": {},
   "source": [
    "# Q3. Explain why the __init__() function is used. Give a suitable example."
   ]
  },
  {
   "cell_type": "markdown",
   "id": "227761fb-1163-41b0-8200-4c84da9e46dd",
   "metadata": {},
   "source": [
    "## __init__ function is constructor. Constructors are used to initializing the object’s state. \n",
    "## The task of constructors is to initialize(assign values) to the data members of the class when an object of the class is created."
   ]
  },
  {
   "cell_type": "markdown",
   "id": "9c0434b3-d606-47ff-a0c2-4c4439600b64",
   "metadata": {},
   "source": [
    "# Q4. Why self is used in OOPs?"
   ]
  },
  {
   "cell_type": "markdown",
   "id": "bfd025b3-0406-4c19-b383-45499741603a",
   "metadata": {},
   "source": [
    "## self represents the instance of the class. By using the “self”  we can access the attributes and methods of the class in python. It binds the attributes with the given arguments."
   ]
  },
  {
   "cell_type": "markdown",
   "id": "4082ebed-8a7c-4acf-bb69-13249a7d6bca",
   "metadata": {},
   "source": [
    "# Q5. What is inheritance? Give an example for each type of inheritance."
   ]
  },
  {
   "cell_type": "markdown",
   "id": "b0417ccd-63d2-4f74-a7d1-e27213f05f78",
   "metadata": {},
   "source": [
    "## Inheritance is defined as the mechanism of inheriting the properties of the base class to the child class.\n",
    "## Types of Inheritance:- \n",
    "## Single Inheritance: \n",
    "##    Single inheritance enables a derived class to inherit properties from a single parent class, thus enabling code reusability and the addition of       new features to existing code.\n",
    "## Multiple Inheritance: \n",
    "##    When a class can be derived from more than one base class this type of inheritance is called multiple inheritances. In multiple inheritances,         all the features of the base classes are inherited into the derived class. \n",
    "## Multilevel Inheritance:\n",
    "##    In multilevel inheritance, features of the base class and the derived class are further inherited into the new derived class. This is similar to       a relationship representing a child and a grandfather. \n",
    "## Hierarchical Inheritance: \n",
    "##    When more than one derived class are created from a single base this type of inheritance is called hierarchical inheritance. In this program, we       have a parent (base) class and two child (derived) classes.\n",
    "## Hybrid Inheritance: \n",
    "##    Inheritance consisting of multiple types of inheritance is called hybrid inheritance."
   ]
  },
  {
   "cell_type": "code",
   "execution_count": null,
   "id": "0cb573ce-a399-4302-b052-78c76d44c7f0",
   "metadata": {},
   "outputs": [],
   "source": []
  }
 ],
 "metadata": {
  "kernelspec": {
   "display_name": "Python 3 (ipykernel)",
   "language": "python",
   "name": "python3"
  },
  "language_info": {
   "codemirror_mode": {
    "name": "ipython",
    "version": 3
   },
   "file_extension": ".py",
   "mimetype": "text/x-python",
   "name": "python",
   "nbconvert_exporter": "python",
   "pygments_lexer": "ipython3",
   "version": "3.10.8"
  }
 },
 "nbformat": 4,
 "nbformat_minor": 5
}
