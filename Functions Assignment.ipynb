{
 "cells": [
  {
   "cell_type": "markdown",
   "id": "1f055f7a-dec1-4319-87cd-fb56011f4d6c",
   "metadata": {},
   "source": [
    "# Q1. Which keyword is used to create a function? Create a function to return a list of odd numbers in the range of 1 to 25."
   ]
  },
  {
   "cell_type": "markdown",
   "id": "4b640f89-a4c3-4144-a885-8698f1953bc7",
   "metadata": {},
   "source": [
    "## def keyword is used to create a function."
   ]
  },
  {
   "cell_type": "code",
   "execution_count": 2,
   "id": "7b54d525-c82f-4263-a5eb-a88b5bebd565",
   "metadata": {},
   "outputs": [],
   "source": [
    "def Num_list():\n",
    "    for i in range(1,26,2):\n",
    "        print(i)"
   ]
  },
  {
   "cell_type": "code",
   "execution_count": 3,
   "id": "4259830c-5021-470f-9777-d912e4a46943",
   "metadata": {},
   "outputs": [
    {
     "name": "stdout",
     "output_type": "stream",
     "text": [
      "1\n",
      "3\n",
      "5\n",
      "7\n",
      "9\n",
      "11\n",
      "13\n",
      "15\n",
      "17\n",
      "19\n",
      "21\n",
      "23\n",
      "25\n"
     ]
    }
   ],
   "source": [
    "Num_list()"
   ]
  },
  {
   "cell_type": "markdown",
   "id": "8ba2acda-d569-45ea-8e45-c6f5e6d2c84e",
   "metadata": {},
   "source": [
    "# Q2. Why *args and **kwargs is used in some functions? Create a function each for *args and **kwargs to demonstrate their use."
   ]
  },
  {
   "cell_type": "markdown",
   "id": "bc73573d-288e-48eb-bbf4-c0151ceb8a2f",
   "metadata": {},
   "source": [
    "## we can use *args and **kwargs as arguments of a function when we are passing a variable number of arguments to a function"
   ]
  },
  {
   "cell_type": "code",
   "execution_count": 5,
   "id": "d56301eb-c2ac-4c43-9d5a-6e0d43ebdd54",
   "metadata": {},
   "outputs": [
    {
     "name": "stdout",
     "output_type": "stream",
     "text": [
      "Hello\n",
      "this\n",
      "is\n",
      "PW\n",
      "Assignment\n"
     ]
    }
   ],
   "source": [
    "def myFun(*argv):\n",
    "\tfor ele in argv:\n",
    "\t\tprint(ele)\n",
    "\n",
    "myFun('Hello', 'this', 'is', 'PW','Assignment')\n"
   ]
  },
  {
   "cell_type": "code",
   "execution_count": 6,
   "id": "ee3771fe-fee6-43f4-98e0-56bdba61df32",
   "metadata": {},
   "outputs": [
    {
     "name": "stdout",
     "output_type": "stream",
     "text": [
      "name == PW\n",
      "course == Data-Science\n"
     ]
    }
   ],
   "source": [
    "def myFun(**kwargs):\n",
    "\tfor key, value in kwargs.items():\n",
    "\t\tprint(\"%s == %s\" % (key, value))\n",
    "\n",
    "myFun(name='PW',course='Data-Science')\n"
   ]
  },
  {
   "cell_type": "markdown",
   "id": "4a5f75ae-d6dd-4283-93eb-03839f0b152e",
   "metadata": {},
   "source": [
    "# Q3. What is an iterator in python? Name the method used to initialise the iterator object and the methodused for iteration. Use these methods to print the first five elements of the given list [2, 4, 6, 8, 10, 12, 14, 16, 18, 20]."
   ]
  },
  {
   "cell_type": "markdown",
   "id": "180aa814-8e33-4234-bb1f-e434122f0bb2",
   "metadata": {},
   "source": [
    "## An iterator is an object that can be iterated upon, meaning that you can traverse through all the values.\n",
    "## The method used to initialise the iterator object is __iter__() and The methodused for iteration is __next__()"
   ]
  },
  {
   "cell_type": "code",
   "execution_count": 11,
   "id": "0b01266b-c0eb-4634-995a-c4837646d68d",
   "metadata": {},
   "outputs": [
    {
     "name": "stdout",
     "output_type": "stream",
     "text": [
      "2\n",
      "4\n",
      "6\n",
      "8\n",
      "10\n"
     ]
    }
   ],
   "source": [
    "l=[2, 4, 6, 8, 10, 12, 14, 16, 18, 20]\n",
    "m_l=iter(l)\n",
    "print(next(m_l))\n",
    "print(next(m_l))\n",
    "print(next(m_l))\n",
    "print(next(m_l))\n",
    "print(next(m_l))"
   ]
  },
  {
   "cell_type": "code",
   "execution_count": 13,
   "id": "cf03ac46-0d40-4e8b-abd5-0870142db011",
   "metadata": {},
   "outputs": [
    {
     "name": "stdout",
     "output_type": "stream",
     "text": [
      "2\n",
      "4\n",
      "6\n",
      "8\n",
      "10\n"
     ]
    }
   ],
   "source": [
    "l=[2, 4, 6, 8, 10, 12, 14, 16, 18, 20]\n",
    "m_l=iter(l)\n",
    "for i in range(5):\n",
    "    print(next(m_l))"
   ]
  },
  {
   "cell_type": "markdown",
   "id": "bf99e18f-da5a-45c9-be52-8015524c1122",
   "metadata": {},
   "source": [
    "# Q4. What is a generator function in python? Why yield keyword is used? Give an example of a generator function."
   ]
  },
  {
   "cell_type": "markdown",
   "id": "cc0d3345-f999-4b3a-97af-6004bc14ae92",
   "metadata": {},
   "source": [
    "## A generator is a function that returns an iterator that produces a sequence of values when iterated over.\n",
    "## When the generator function is called, it does not execute the function body immediately. Instead, it returns a generator object that can be iterated over to produce the values. Then the yield keyword is used to produce a value from the generator"
   ]
  },
  {
   "cell_type": "code",
   "execution_count": 15,
   "id": "fcba2a2d-cb3e-45fa-bd31-2d323b522b6e",
   "metadata": {},
   "outputs": [
    {
     "name": "stdout",
     "output_type": "stream",
     "text": [
      "0\n",
      "1\n",
      "2\n"
     ]
    }
   ],
   "source": [
    "def myfun(n):\n",
    "    i = 0\n",
    "    while i < n:\n",
    "        yield i\n",
    "        i += 1\n",
    "for i in myfun(3):\n",
    "    print(i)"
   ]
  },
  {
   "cell_type": "markdown",
   "id": "a2bb455f-4a91-4ab9-ae9b-1cf5e4dff638",
   "metadata": {},
   "source": [
    "# Q5. Create a generator function for prime numbers less than 1000. Use the next() method to print the first 20 prime numbers."
   ]
  },
  {
   "cell_type": "code",
   "execution_count": 17,
   "id": "2670c8de-4a13-43c1-a181-22c04abdce3c",
   "metadata": {},
   "outputs": [
    {
     "name": "stdout",
     "output_type": "stream",
     "text": [
      "2\n",
      "3\n",
      "5\n",
      "7\n",
      "11\n",
      "13\n",
      "17\n",
      "19\n",
      "23\n",
      "29\n",
      "31\n",
      "37\n",
      "41\n",
      "43\n",
      "47\n",
      "53\n",
      "59\n",
      "61\n",
      "67\n",
      "71\n"
     ]
    }
   ],
   "source": [
    "from math import sqrt\n",
    "\n",
    "def is_prime(n):\n",
    "    if (n <= 1):\n",
    "        return False\n",
    "    if (n == 2):\n",
    "        return True\n",
    "    if (n % 2 == 0):\n",
    "        return False\n",
    "\n",
    "    i = 3\n",
    "    while i <= sqrt(n):\n",
    "        if n % i == 0:\n",
    "            return False\n",
    "        i = i + 2\n",
    "\n",
    "    return True\n",
    "\n",
    "def prime():\n",
    "    n = 1\n",
    "    while True:\n",
    "        n += 1\n",
    "        if is_prime(n):\n",
    "            yield n\n",
    "            \n",
    "res = prime()\n",
    "\n",
    "for i in range(20):\n",
    "    print(next(res))\n",
    "    "
   ]
  },
  {
   "cell_type": "code",
   "execution_count": null,
   "id": "bcad9125-247d-45c4-a5e0-d4a98298d620",
   "metadata": {},
   "outputs": [],
   "source": []
  }
 ],
 "metadata": {
  "kernelspec": {
   "display_name": "Python 3 (ipykernel)",
   "language": "python",
   "name": "python3"
  },
  "language_info": {
   "codemirror_mode": {
    "name": "ipython",
    "version": 3
   },
   "file_extension": ".py",
   "mimetype": "text/x-python",
   "name": "python",
   "nbconvert_exporter": "python",
   "pygments_lexer": "ipython3",
   "version": "3.10.8"
  }
 },
 "nbformat": 4,
 "nbformat_minor": 5
}
